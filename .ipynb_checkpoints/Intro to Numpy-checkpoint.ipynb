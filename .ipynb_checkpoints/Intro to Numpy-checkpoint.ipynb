{
 "cells": [
  {
   "cell_type": "markdown",
   "metadata": {},
   "source": [
    "# Intro to Numpy\n",
    "\n",
    "Numpy provides efficient storage and manipulation for **numerical** arrays. Numpy arrays are like Python's built in list type. Anything can be thought of as an n-dimensional array.\n",
    "* Digital Images: two dimensional arrays of numbers representing pixel brightness across area.\n",
    "* Sound clips: one dimensional arrays of intensity vs time.\n"
   ]
  }
 ],
 "metadata": {
  "kernelspec": {
   "display_name": "Python 3",
   "language": "python",
   "name": "python3"
  },
  "language_info": {
   "codemirror_mode": {
    "name": "ipython",
    "version": 3
   },
   "file_extension": ".py",
   "mimetype": "text/x-python",
   "name": "python",
   "nbconvert_exporter": "python",
   "pygments_lexer": "ipython3",
   "version": "3.6.0"
  }
 },
 "nbformat": 4,
 "nbformat_minor": 2
}
