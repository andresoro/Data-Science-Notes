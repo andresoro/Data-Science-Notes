{
 "cells": [
  {
   "cell_type": "markdown",
   "metadata": {},
   "source": [
    "# Universal Functions for Computation over Arrays\n",
    "\n",
    "The last notebook dealt with creating and modifying numPy arrays. However, till now, these arrays are simply fancier data types. What makes numPy so important? \n",
    "\n",
    "Universal functions allow computation over numPy arrays to be *vectorized*. In linear algebra terms, vectorization is a linear transformation that converts matrices into column vectors. This allows computations to be done over the entire matrix or vector in a single step as opposed to each element. \n",
    "\n",
    "## Where Python fails and NumPy takes over\n",
    "\n",
    "Pythons default operations do some operations slowly, maily loops. This is due to the fact that the loops iterate over every single element in an array or list.\n",
    "\n",
    "## Introduction to UFuncs\n",
    "\n",
    "NumPy provides vectorized operations. This approach is designed to push the loop into the compiled layer that underlies NumPy.\n",
    "\n",
    "### Array arithmetic\n",
    "\n",
    "NumPy ufuncs are very similar to python's native operators. "
   ]
  },
  {
   "cell_type": "code",
   "execution_count": 2,
   "metadata": {
    "collapsed": true
   },
   "outputs": [],
   "source": [
    "import numpy as np"
   ]
  },
  {
   "cell_type": "code",
   "execution_count": 3,
   "metadata": {},
   "outputs": [
    {
     "name": "stdout",
     "output_type": "stream",
     "text": [
      "x     = [0 1 2 3]\n",
      "x + 5 = [5 6 7 8]\n",
      "x - 5 = [-5 -4 -3 -2]\n",
      "x * 2 = [0 2 4 6]\n",
      "x / 2 = [ 0.   0.5  1.   1.5]\n",
      "x // 2 = [0 0 1 1]\n"
     ]
    }
   ],
   "source": [
    "x = np.arange(4)\n",
    "print(\"x     =\", x)\n",
    "print(\"x + 5 =\", x + 5)\n",
    "print(\"x - 5 =\", x - 5)\n",
    "print(\"x * 2 =\", x * 2)\n",
    "print(\"x / 2 =\", x / 2)\n",
    "print(\"x // 2 =\", x // 2)  # floor division"
   ]
  },
  {
   "cell_type": "markdown",
   "metadata": {},
   "source": [
    "The arithmetic operators can be summed up as follows:"
   ]
  }
 ],
 "metadata": {
  "kernelspec": {
   "display_name": "Python 3",
   "language": "python",
   "name": "python3"
  },
  "language_info": {
   "codemirror_mode": {
    "name": "ipython",
    "version": 3
   },
   "file_extension": ".py",
   "mimetype": "text/x-python",
   "name": "python",
   "nbconvert_exporter": "python",
   "pygments_lexer": "ipython3",
   "version": "3.6.0"
  }
 },
 "nbformat": 4,
 "nbformat_minor": 2
}
