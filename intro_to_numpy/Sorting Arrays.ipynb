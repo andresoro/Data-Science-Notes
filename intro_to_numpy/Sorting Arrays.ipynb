{
 "cells": [
  {
   "cell_type": "markdown",
   "metadata": {},
   "source": [
    "# Sorting Arrays\n",
    "\n",
    "The previous two notebooks dealt with tools to access and operate on array data with numPy. This section deals with sorting values in arrays. \n",
    "\n",
    "There are many ways to sort lists, arrays with programs. Some of these algorithms are:\n",
    "  * Insertion sort\n",
    "  * Selection sort\n",
    "  * Merge sort\n",
    "  * Quick sort\n",
    "  * Bubble sort\n",
    " \n",
    "For example, a simple selection sort can be implemented in python. This algorithm repeatedly finds minimum value in a list and makes swaps until list is sorted."
   ]
  },
  {
   "cell_type": "code",
   "execution_count": 1,
   "metadata": {},
   "outputs": [
    {
     "data": {
      "text/plain": [
       "array([1, 2, 4, 5, 6, 8])"
      ]
     },
     "execution_count": 1,
     "metadata": {},
     "output_type": "execute_result"
    }
   ],
   "source": [
    "import numpy as np\n",
    "\n",
    "def selection_sort(x):\n",
    "    for i in range(len(x)):\n",
    "        swap = i + np.argmin(x[i:])\n",
    "        (x[i], x[swap]) = (x[swap], x[i])\n",
    "    return x\n",
    "x = np.array([2,4,1,8,6,5])\n",
    "selection_sort(x)"
   ]
  },
  {
   "cell_type": "markdown",
   "metadata": {},
   "source": [
    "Any computer science student will tell you that while these sorting algorithms are simple, they are by no means the fastest or most efficient methods.\n",
    "\n",
    "## Fast sorting in Numpy: np.sort and np.argsort\n",
    "\n",
    "As usual, numPy's sorting algorithms blow pythons sort and sorted functions out of the water.\n",
    "\n",
    "Sorting an array with numpy is as follows"
   ]
  },
  {
   "cell_type": "code",
   "execution_count": 2,
   "metadata": {},
   "outputs": [
    {
     "data": {
      "text/plain": [
       "array([ 1,  2,  5,  7,  9, 11, 15])"
      ]
     },
     "execution_count": 2,
     "metadata": {},
     "output_type": "execute_result"
    }
   ],
   "source": [
    "x = np.array([2,1,5,7,9,15,11])\n",
    "np.sort(x)"
   ]
  },
  {
   "cell_type": "code",
   "execution_count": null,
   "metadata": {
    "collapsed": true
   },
   "outputs": [],
   "source": []
  }
 ],
 "metadata": {
  "kernelspec": {
   "display_name": "Python 3",
   "language": "python",
   "name": "python3"
  },
  "language_info": {
   "codemirror_mode": {
    "name": "ipython",
    "version": 3
   },
   "file_extension": ".py",
   "mimetype": "text/x-python",
   "name": "python",
   "nbconvert_exporter": "python",
   "pygments_lexer": "ipython3",
   "version": "3.6.0"
  }
 },
 "nbformat": 4,
 "nbformat_minor": 2
}
