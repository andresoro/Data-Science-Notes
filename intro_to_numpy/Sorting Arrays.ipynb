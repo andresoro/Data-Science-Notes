{
 "cells": [
  {
   "cell_type": "markdown",
   "metadata": {},
   "source": [
    "# Sorting Arrays\n",
    "\n",
    "The previous two notebooks dealt with tools to access and operate on array data with numPy. This section deals with sorting values in arrays. \n",
    "\n",
    "There are many ways to sort lists, arrays with programs. Some of these algorithms are:\n",
    "  * Insertion sort\n",
    "  * Selection sort\n",
    "  * Merge sort\n",
    "  * Quick sort\n",
    "  * Bubble sort\n",
    " \n",
    "For example, a simple selection sort can be implemented in python. This algorithm repeatedly finds minimum value in a list and makes swaps until list is sorted."
   ]
  },
  {
   "cell_type": "code",
   "execution_count": 1,
   "metadata": {},
   "outputs": [
    {
     "data": {
      "text/plain": [
       "array([1, 2, 4, 5, 6, 8])"
      ]
     },
     "execution_count": 1,
     "metadata": {},
     "output_type": "execute_result"
    }
   ],
   "source": [
    "import numpy as np\n",
    "\n",
    "def selection_sort(x):\n",
    "    for i in range(len(x)):\n",
    "        swap = i + np.argmin(x[i:])\n",
    "        (x[i], x[swap]) = (x[swap], x[i])\n",
    "    return x\n",
    "x = np.array([2,4,1,8,6,5])\n",
    "selection_sort(x)"
   ]
  },
  {
   "cell_type": "markdown",
   "metadata": {},
   "source": [
    "Any computer science student will tell you that while these sorting algorithms are simple, they are by no means the fastest or most efficient methods.\n",
    "\n",
    "## Fast sorting in Numpy: np.sort and np.argsort\n",
    "\n",
    "As usual, numPy's sorting algorithms blow pythons sort and sorted functions out of the water.\n",
    "\n",
    "Sorting an array with numpy is as follows"
   ]
  },
  {
   "cell_type": "code",
   "execution_count": 2,
   "metadata": {},
   "outputs": [
    {
     "data": {
      "text/plain": [
       "array([ 1,  2,  5,  7,  9, 11, 15])"
      ]
     },
     "execution_count": 2,
     "metadata": {},
     "output_type": "execute_result"
    }
   ],
   "source": [
    "x = np.array([2,1,5,7,9,15,11])\n",
    "np.sort(x)"
   ]
  },
  {
   "cell_type": "markdown",
   "metadata": {},
   "source": [
    "Related to sort() is the function argsort() which returns the **indices** of the sorted elements."
   ]
  },
  {
   "cell_type": "code",
   "execution_count": 3,
   "metadata": {},
   "outputs": [
    {
     "name": "stdout",
     "output_type": "stream",
     "text": [
      "[2 0 1 4 3]\n"
     ]
    }
   ],
   "source": [
    "x = np.array([2,4,1,7,5])\n",
    "i = np.argsort(x)\n",
    "print(i)"
   ]
  },
  {
   "cell_type": "markdown",
   "metadata": {},
   "source": [
    "If you wanted to create the sorted array you simply pass the indices."
   ]
  },
  {
   "cell_type": "code",
   "execution_count": 4,
   "metadata": {},
   "outputs": [
    {
     "data": {
      "text/plain": [
       "array([1, 2, 4, 5, 7])"
      ]
     },
     "execution_count": 4,
     "metadata": {},
     "output_type": "execute_result"
    }
   ],
   "source": [
    "x[i]"
   ]
  },
  {
   "cell_type": "markdown",
   "metadata": {},
   "source": [
    "### Sorting along rows or columns\n",
    "\n",
    "A useful feature of NumPy's sorting algorithm is the ability to sort along specific rows or columns by using the *axis* argument. This is especially useful for multi dimensional arrays."
   ]
  },
  {
   "cell_type": "code",
   "execution_count": 5,
   "metadata": {},
   "outputs": [
    {
     "data": {
      "text/plain": [
       "array([[8, 6, 7, 9, 6],\n",
       "       [0, 8, 9, 7, 6],\n",
       "       [0, 7, 4, 0, 6],\n",
       "       [4, 5, 5, 8, 5],\n",
       "       [9, 8, 7, 3, 4]])"
      ]
     },
     "execution_count": 5,
     "metadata": {},
     "output_type": "execute_result"
    }
   ],
   "source": [
    "rand = np.random.RandomState(14)\n",
    "X = rand.randint(0, 10, (5,5))\n",
    "X"
   ]
  },
  {
   "cell_type": "code",
   "execution_count": 6,
   "metadata": {},
   "outputs": [
    {
     "data": {
      "text/plain": [
       "array([[0, 5, 4, 0, 4],\n",
       "       [0, 6, 5, 3, 5],\n",
       "       [4, 7, 7, 7, 6],\n",
       "       [8, 8, 7, 8, 6],\n",
       "       [9, 8, 9, 9, 6]])"
      ]
     },
     "execution_count": 6,
     "metadata": {},
     "output_type": "execute_result"
    }
   ],
   "source": [
    "# Sort each column \n",
    "np.sort(X, axis=0)"
   ]
  },
  {
   "cell_type": "code",
   "execution_count": 7,
   "metadata": {},
   "outputs": [
    {
     "data": {
      "text/plain": [
       "array([[6, 6, 7, 8, 9],\n",
       "       [0, 6, 7, 8, 9],\n",
       "       [0, 0, 4, 6, 7],\n",
       "       [4, 5, 5, 5, 8],\n",
       "       [3, 4, 7, 8, 9]])"
      ]
     },
     "execution_count": 7,
     "metadata": {},
     "output_type": "execute_result"
    }
   ],
   "source": [
    "# Sort each row\n",
    "np.sort(X, axis=1)"
   ]
  },
  {
   "cell_type": "markdown",
   "metadata": {},
   "source": [
    "This treats each row/column as its seperate array so relationsips between row or columns will be lost."
   ]
  },
  {
   "cell_type": "markdown",
   "metadata": {
    "collapsed": true
   },
   "source": [
    "## Partial Sorts: Partitioning\n",
    "If we want to find the k smallest values in an array numPy provies the np.partition function. "
   ]
  },
  {
   "cell_type": "code",
   "execution_count": 8,
   "metadata": {},
   "outputs": [
    {
     "data": {
      "text/plain": [
       "array([1, 2, 3, 8, 4, 6])"
      ]
     },
     "execution_count": 8,
     "metadata": {},
     "output_type": "execute_result"
    }
   ],
   "source": [
    "x = np.array([1,6,3,8,4,2])\n",
    "\n",
    "#if we wanted to find k=3 smallest values\n",
    "np.partition(x, 1)"
   ]
  },
  {
   "cell_type": "markdown",
   "metadata": {},
   "source": [
    "The result is the k smallest values to the left of the partition. Partial sorts can also be done over higher dimensional arrays."
   ]
  },
  {
   "cell_type": "code",
   "execution_count": 9,
   "metadata": {},
   "outputs": [
    {
     "data": {
      "text/plain": [
       "array([[4, 5, 5, 0, 5],\n",
       "       [0, 6, 4, 3, 4],\n",
       "       [0, 7, 7, 7, 6],\n",
       "       [8, 8, 7, 8, 6],\n",
       "       [9, 8, 9, 9, 6]])"
      ]
     },
     "execution_count": 9,
     "metadata": {},
     "output_type": "execute_result"
    }
   ],
   "source": [
    "np.partition(X, 3, axis=0)"
   ]
  },
  {
   "cell_type": "markdown",
   "metadata": {},
   "source": [
    "## Example: k-Nearest Neighbors\n",
    "How could we use the argsort function along multiple axes to find the nearest neighbors of each point in a set?\n",
    "\n",
    "Lets create 10 points on a two dimensional plane. This will be a 10 x 2 array of coordinates."
   ]
  },
  {
   "cell_type": "code",
   "execution_count": 10,
   "metadata": {},
   "outputs": [
    {
     "data": {
      "text/plain": [
       "array([[ 0.763139  ,  0.87049946],\n",
       "       [ 0.11011118,  0.30009198],\n",
       "       [ 0.47490577,  0.67293672],\n",
       "       [ 0.25759243,  0.70115132],\n",
       "       [ 0.65700006,  0.18200776],\n",
       "       [ 0.32206299,  0.88753746],\n",
       "       [ 0.08334916,  0.74656412],\n",
       "       [ 0.06235005,  0.73148113],\n",
       "       [ 0.74251135,  0.40791581],\n",
       "       [ 0.991383  ,  0.4521373 ]])"
      ]
     },
     "execution_count": 10,
     "metadata": {},
     "output_type": "execute_result"
    }
   ],
   "source": [
    "X = rand.rand(10,2)\n",
    "X"
   ]
  },
  {
   "cell_type": "markdown",
   "metadata": {},
   "source": [
    "Let's graph these points to see where they stand."
   ]
  },
  {
   "cell_type": "code",
   "execution_count": 11,
   "metadata": {},
   "outputs": [
    {
     "data": {
      "text/plain": [
       "<matplotlib.collections.PathCollection at 0x7f8bcf756390>"
      ]
     },
     "execution_count": 11,
     "metadata": {},
     "output_type": "execute_result"
    },
    {
     "data": {
      "image/png": "[encoded data removed]",
      "text/plain": [
       "<matplotlib.figure.Figure at 0x7f8c045667b8>"
      ]
     },
     "metadata": {},
     "output_type": "display_data"
    }
   ],
   "source": [
    "%matplotlib inline\n",
    "import matplotlib.pyplot as plt\n",
    "import seaborn; seaborn.set() #plot styling\n",
    "plt.scatter(X[:,0], X[:, 1], s=100)"
   ]
  },
  {
   "cell_type": "markdown",
   "metadata": {},
   "source": [
    "Now we wish to compute the distance from each pair of points. We know from linear algebra that the distance between two points is:\n",
    "\n",
    "$$d = \\sqrt {\\left( {x_1 - x_2 } \\right)^2 + \\left( {y_1 - y_2 } \\right)^2}$$"
   ]
  },
  {
   "cell_type": "markdown",
   "metadata": {},
   "source": [
    "How do we translate this to code? And how do we do it so that the information stays encoded in a matrix? The matrix will allow for efficient calculation and storage since we know these operations are *vectorized*.\n",
    "\n",
    "We wish to compute the matrix of *squared* distances."
   ]
  },
  {
   "cell_type": "code",
   "execution_count": 12,
   "metadata": {},
   "outputs": [
    {
     "data": {
      "text/plain": [
       "(10, 10, 2)"
      ]
     },
     "execution_count": 12,
     "metadata": {},
     "output_type": "execute_result"
    }
   ],
   "source": [
    "# for each pair of points, compute differences in their coordinates\n",
    "differences = X[:,np.newaxis, :] - X[np.newaxis, :, :]\n",
    "differences.shape"
   ]
  },
  {
   "cell_type": "markdown",
   "metadata": {},
   "source": [
    "If we were to print out the differences matrix, it would be a three dimensional matrix with the distance from every point to every point. Now we wish to square the coordinate differences and sum then to get the distance squared.\n",
    "$$d^2$$"
   ]
  },
  {
   "cell_type": "code",
   "execution_count": 13,
   "metadata": {},
   "outputs": [
    {
     "data": {
      "text/plain": [
       "(10, 10)"
      ]
     },
     "execution_count": 13,
     "metadata": {},
     "output_type": "execute_result"
    }
   ],
   "source": [
    "#square coordinate differences\n",
    "sq_differences = differences ** 2\n",
    "\n",
    "#sum the coordinate differences to get the squared distance.\n",
    "#sum(axis=-1) implies the sum counts from last to first axis\n",
    "#sum() returns matrix with specified axis removed\n",
    "\n",
    "dist_sq = sq_differences.sum(-1)\n",
    "dist_sq.shape"
   ]
  },
  {
   "cell_type": "markdown",
   "metadata": {},
   "source": [
    "A 10x10 matrix is a matrix with the distance from each point to each point encoded. For example the distance from the first point in the 10x2 array to the second point is the distance is position [1,2] in the dist_sq array.\n",
    "\n",
    "To verify the distances are correct, we examine the diagonal of the dist_sq matrix. Since the distances from each point to the same point should be zero, it follows that the diagonal should be zero."
   ]
  },
  {
   "cell_type": "code",
   "execution_count": 14,
   "metadata": {},
   "outputs": [
    {
     "data": {
      "text/plain": [
       "array([ 0.,  0.,  0.,  0.,  0.,  0.,  0.,  0.,  0.,  0.])"
      ]
     },
     "execution_count": 14,
     "metadata": {},
     "output_type": "execute_result"
    }
   ],
   "source": [
    "dist_sq.diagonal()"
   ]
  },
  {
   "cell_type": "markdown",
   "metadata": {},
   "source": [
    "It works! Since we are just concerned with the nearest neighbors and not neccesarily the exact distances from each point we can use np.argsort() to find the *indices* of the nearest neighbors for each point.\n",
    "\n",
    "Sorting along each row so left most column will give the nearest neighbor."
   ]
  },
  {
   "cell_type": "code",
   "execution_count": 15,
   "metadata": {},
   "outputs": [
    {
     "data": {
      "text/plain": [
       "array([[0, 2, 5, 8, 9, 3, 6, 4, 7, 1],\n",
       "       [1, 3, 7, 6, 2, 4, 5, 8, 0, 9],\n",
       "       [2, 3, 5, 0, 8, 6, 7, 1, 4, 9],\n",
       "       [3, 6, 5, 7, 2, 1, 0, 8, 4, 9],\n",
       "       [4, 8, 9, 2, 1, 3, 0, 5, 6, 7],\n",
       "       [5, 3, 2, 6, 7, 0, 1, 8, 4, 9],\n",
       "       [6, 7, 3, 5, 2, 1, 0, 8, 4, 9],\n",
       "       [7, 6, 3, 5, 2, 1, 0, 8, 4, 9],\n",
       "       [8, 4, 9, 2, 0, 3, 5, 1, 6, 7],\n",
       "       [9, 8, 4, 0, 2, 3, 5, 1, 6, 7]])"
      ]
     },
     "execution_count": 15,
     "metadata": {},
     "output_type": "execute_result"
    }
   ],
   "source": [
    "nearest = np.argsort(dist_sq, axis=1)\n",
    "nearest"
   ]
  },
  {
   "cell_type": "markdown",
   "metadata": {},
   "source": [
    "The left most column is 0 - 9 since each point is always gonna be closest to itself! However we wanted to know the k-nearest neighbors, this previous operation has actually given us more information than we need! \n",
    "\n",
    "All we have to do to find k-nearest neighbors is to partition each row for k+1 values.\n",
    "\n",
    "This is done with the np.argpartition() function"
   ]
  },
  {
   "cell_type": "code",
   "execution_count": 16,
   "metadata": {},
   "outputs": [],
   "source": [
    "#if we want to find the three nearest neighbors\n",
    "k = 3\n",
    "nearest_partition = np.argpartition(dist_sq, k + 1, axis=1)"
   ]
  },
  {
   "cell_type": "markdown",
   "metadata": {},
   "source": [
    "Now lets plot the points along the k-nearest neighbors"
   ]
  },
  {
   "cell_type": "code",
   "execution_count": 17,
   "metadata": {},
   "outputs": [
    {
     "data": {
      "image/png": "[encoded data removed]",
      "text/plain": [
       "<matplotlib.figure.Figure at 0x7f8bcf756eb8>"
      ]
     },
     "metadata": {},
     "output_type": "display_data"
    }
   ],
   "source": [
    "plt.scatter(X[:,0], X[:,1], s=100)\n",
    "\n",
    "#let k=1 to find nearest neighbor\n",
    "k=1\n",
    "\n",
    "for i in range(X.shape[0]):\n",
    "    for j in nearest[i, :k+1]:\n",
    "        #plot line from X[i] to X[j]\n",
    "        plt.plot(*zip(X[j], X[i]), color='black')"
   ]
  },
  {
   "cell_type": "code",
   "execution_count": 18,
   "metadata": {},
   "outputs": [
    {
     "data": {
      "image/png": "[encoded data removed]",
      "text/plain": [
       "<matplotlib.figure.Figure at 0x7f8bcf756da0>"
      ]
     },
     "metadata": {},
     "output_type": "display_data"
    }
   ],
   "source": [
    "plt.scatter(X[:,0], X[:,1], s=100)\n",
    "\n",
    "#let k=2 to find two nearest neighbors\n",
    "k=2\n",
    "\n",
    "for i in range(X.shape[0]):\n",
    "    for j in nearest[i, :k+1]:\n",
    "        #plot line from X[i] to X[j]\n",
    "        plt.plot(*zip(X[j], X[i]), color='black')"
   ]
  },
  {
   "cell_type": "markdown",
   "metadata": {},
   "source": []
  }
 ],
 "metadata": {
  "kernelspec": {
   "display_name": "Python 3",
   "language": "python",
   "name": "python3"
  },
  "language_info": {
   "codemirror_mode": {
    "name": "ipython",
    "version": 3
   },
   "file_extension": ".py",
   "mimetype": "text/x-python",
   "name": "python",
   "nbconvert_exporter": "python",
   "pygments_lexer": "ipython3",
   "version": "3.6.0"
  }
 },
 "nbformat": 4,
 "nbformat_minor": 2
}
